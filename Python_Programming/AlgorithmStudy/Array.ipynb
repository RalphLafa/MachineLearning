{
 "cells": [
  {
   "cell_type": "markdown",
   "id": "730ac21e",
   "metadata": {},
   "source": [
    "## Two Sums Solutions\n",
    "\n",
    "1. Brute Force"
   ]
  },
  {
   "cell_type": "code",
   "execution_count": 2,
   "id": "32b8779e",
   "metadata": {},
   "outputs": [],
   "source": [
    "from typing import List"
   ]
  },
  {
   "cell_type": "code",
   "execution_count": 3,
   "id": "26bd25e8",
   "metadata": {},
   "outputs": [],
   "source": [
    "def twoSum(self, nums: List[int], target: int) -> List[int]:\n",
    "    for i in range(len(nums)):\n",
    "        for j in range(i + 1, len(nums)):\n",
    "            if nums[i] + nums[j] == target:\n",
    "                return [i, j]\n",
    "            "
   ]
  },
  {
   "cell_type": "markdown",
   "id": "92ee4567",
   "metadata": {},
   "source": [
    "2. searching using 'in'"
   ]
  },
  {
   "cell_type": "code",
   "execution_count": 4,
   "id": "905028fe",
   "metadata": {},
   "outputs": [],
   "source": [
    "def twoSum(self, nums: List[int], target: int) -> List[int]:\n",
    "    for i, n in enumerate(nums):\n",
    "        complement = target - n\n",
    "        \n",
    "        if complement in nums[i+1:]:\n",
    "            return [nums.index(n), nums[i+1:].index(complement) + (i+1)]"
   ]
  },
  {
   "cell_type": "markdown",
   "id": "c6eefaa9",
   "metadata": {},
   "source": [
    "3. Use data structure 'dictionary'"
   ]
  },
  {
   "cell_type": "code",
   "execution_count": 5,
   "id": "f3531824",
   "metadata": {},
   "outputs": [],
   "source": [
    "def twoSum(self, nums: List[int], target: int) -> List[int]:\n",
    "    nums_map = {}\n",
    "    for i, num in enumerate(nums):\n",
    "        nums_map[num] = i\n",
    "    \n",
    "    for i, num in enumerate(nums):\n",
    "        if target - num in nums_map and i != nums_map[target - num]:\n",
    "            return [i, nums_map[target -num]]\n",
    "        "
   ]
  },
  {
   "cell_type": "markdown",
   "id": "aefe0b04",
   "metadata": {},
   "source": [
    "4. Developing solution 3"
   ]
  },
  {
   "cell_type": "code",
   "execution_count": 6,
   "id": "74ce67ce",
   "metadata": {},
   "outputs": [],
   "source": [
    "def twoSum(self, nums: List[int], target: int) -> List[int]:\n",
    "    nums_map = {}\n",
    "    for i,num in enumerate(nums):\n",
    "        if target - num in nums_map:\n",
    "            return [nums_map[target - num], i]\n",
    "        nums_map[num] = i\n",
    "    "
   ]
  },
  {
   "cell_type": "markdown",
   "id": "6447f2bf",
   "metadata": {},
   "source": [
    "## Three Sum\n",
    "\n",
    "- Cannot solve in Brute Force due to time out\n"
   ]
  },
  {
   "cell_type": "code",
   "execution_count": null,
   "id": "e5b324d1",
   "metadata": {},
   "outputs": [],
   "source": [
    "def threeSum(self, nums: List[int])-> List[List[int]]:\n",
    "    results = []\n",
    "    nums.sort()\n",
    "    \n",
    "    for i in range(len(nums) - 2):\n",
    "        if i > 0 and nums[i] == nums[i -1]:\n",
    "            continue\n",
    "        left, right = i+1, len(nums) -1\n",
    "        while left < right:\n",
    "            sum = nums[i] +nums[left] + nums[right]\n",
    "            if sum < 0:\n",
    "                left += 1\n",
    "            elif sum > 0 :\n",
    "                right -= 1\n",
    "            else:\n",
    "                results.append([nums[i],nums[left],nums[right]])\n",
    "                \n",
    "                while left < right and nums[left] == nums[left + 1]:\n",
    "                    left += 1\n",
    "                while left < right and nums[right] == nums[right -1]:\n",
    "                    right -= 1\n",
    "                left == 1\n",
    "                right -= 1\n",
    "                \n",
    "    return results\n",
    "\n"
   ]
  }
 ],
 "metadata": {
  "kernelspec": {
   "display_name": "Python 3 (ipykernel)",
   "language": "python",
   "name": "python3"
  },
  "language_info": {
   "codemirror_mode": {
    "name": "ipython",
    "version": 3
   },
   "file_extension": ".py",
   "mimetype": "text/x-python",
   "name": "python",
   "nbconvert_exporter": "python",
   "pygments_lexer": "ipython3",
   "version": "3.9.13"
  },
  "vscode": {
   "interpreter": {
    "hash": "52634da84371cba311ea128a5ea7cdc41ff074b781779e754b270ff9f8153cee"
   }
  }
 },
 "nbformat": 4,
 "nbformat_minor": 5
}
