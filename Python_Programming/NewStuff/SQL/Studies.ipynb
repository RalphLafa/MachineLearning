{
 "cells": [
  {
   "cell_type": "code",
   "execution_count": 1,
   "id": "55c7a355",
   "metadata": {},
   "outputs": [
    {
     "name": "stdout",
     "output_type": "stream",
     "text": [
      "Testing Jupyter notebook\n"
     ]
    }
   ],
   "source": [
    "print(\"Testing Jupyter notebook\")"
   ]
  },
  {
   "cell_type": "markdown",
   "id": "de731e58",
   "metadata": {},
   "source": [
    "# Study on SQL \n",
    "\n",
    "* MySQL"
   ]
  },
  {
   "cell_type": "markdown",
   "id": "03c094bf",
   "metadata": {},
   "source": []
  }
 ],
 "metadata": {
  "kernelspec": {
   "display_name": "Python 3 (ipykernel)",
   "language": "python",
   "name": "python3"
  },
  "language_info": {
   "codemirror_mode": {
    "name": "ipython",
    "version": 3
   },
   "file_extension": ".py",
   "mimetype": "text/x-python",
   "name": "python",
   "nbconvert_exporter": "python",
   "pygments_lexer": "ipython3",
   "version": "3.9.13"
  }
 },
 "nbformat": 4,
 "nbformat_minor": 5
}
