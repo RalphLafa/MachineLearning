{
 "cells": [
  {
   "cell_type": "code",
   "execution_count": 4,
   "id": "66074bcf",
   "metadata": {
    "collapsed": true
   },
   "outputs": [
    {
     "name": "stdout",
     "output_type": "stream",
     "text": [
      "Input gender: male\n",
      "Input height: 175\n",
      "175.0cm male's average weight is 67.375\n"
     ]
    }
   ],
   "source": [
    "def std_weight(height, gender):\n",
    "    height /= 100;\n",
    "    if(gender == \"male\"):\n",
    "        return height * height * 22;\n",
    "    else :\n",
    "        return height * height * 21;\n",
    "\n",
    "gender = input(\"Input gender: \")\n",
    "height = float(input(\"Input height: \"))\n",
    "\n",
    "print(f\"{height} cm {gender}\\'s average weight is {std_weight(height,gender)}\")"
   ]
  },
  {
   "cell_type": "markdown",
   "id": "108d0a12",
   "metadata": {},
   "source": [
    "## stdio"
   ]
  },
  {
   "cell_type": "code",
   "execution_count": 9,
   "id": "15ae3e8c",
   "metadata": {
    "collapsed": true
   },
   "outputs": [
    {
     "name": "stdout",
     "output_type": "stream",
     "text": [
      "Python java\n",
      "PythonJava\n",
      "Python, Java\n",
      "\n",
      "Python, Java ?!"
     ]
    }
   ],
   "source": [
    "print(\"Python\", \"java\")\n",
    "print(\"Python\" + \"Java\")\n",
    "print(\"Python\", \"Java\", sep=\", \")\n",
    "print() # null space\n",
    "print(\"Python\", \"Java\", sep=\", \", end = \" ?!\")"
   ]
  },
  {
   "cell_type": "code",
   "execution_count": 10,
   "id": "cd9a82cf",
   "metadata": {
    "collapsed": true
   },
   "outputs": [
    {
     "name": "stdout",
     "output_type": "stream",
     "text": [
      "Math 0\n",
      "Eng 50\n",
      "Coding 100\n"
     ]
    }
   ],
   "source": [
    "scores = {\"Math\":0, \"Eng\":50,\"Coding\":100}\n",
    "for subject, score in scores.items():\n",
    "    print(subject, score)"
   ]
  },
  {
   "cell_type": "code",
   "execution_count": 14,
   "id": "9b1fd405",
   "metadata": {
    "collapsed": true
   },
   "outputs": [
    {
     "name": "stdout",
     "output_type": "stream",
     "text": [
      "<class 'dict_items'>\n",
      "<class 'str'>\n",
      "<class 'int'>\n"
     ]
    }
   ],
   "source": [
    "print(type(scores.items()))\n",
    "print(type(subject))\n",
    "print(type(score))"
   ]
  },
  {
   "cell_type": "markdown",
   "id": "5c20c1a3",
   "metadata": {},
   "source": [
    "### ljust fills in first from left and secures 8 spaces"
   ]
  },
  {
   "cell_type": "code",
   "execution_count": 16,
   "id": "755f8ffa",
   "metadata": {
    "collapsed": true
   },
   "outputs": [
    {
     "name": "stdout",
     "output_type": "stream",
     "text": [
      "Math    :   0\n",
      "Eng     :  50\n",
      "Coding  : 100\n"
     ]
    }
   ],
   "source": [
    "for subject, score in scores.items():\n",
    "    print(subject.ljust(8),str(score).rjust(4),sep = \":\")"
   ]
  },
  {
   "cell_type": "code",
   "execution_count": 18,
   "id": "f3b3570e",
   "metadata": {},
   "outputs": [
    {
     "name": "stdout",
     "output_type": "stream",
     "text": [
      "Waiting list : 001\n",
      "Waiting list : 002\n",
      "Waiting list : 003\n",
      "Waiting list : 004\n"
     ]
    }
   ],
   "source": [
    "for num in range(1, 5):\n",
    "    print(\"Waiting list : \" + str(num).zfill(3))"
   ]
  },
  {
   "cell_type": "code",
   "execution_count": 19,
   "id": "950c8adf",
   "metadata": {},
   "outputs": [
    {
     "name": "stdout",
     "output_type": "stream",
     "text": [
      "500\n",
      "       500\n",
      "      +500\n",
      "      -500\n",
      "500_______\n"
     ]
    }
   ],
   "source": [
    "print(\"{0}\".format(500)) # {0} 위치에 500 값 출력\n",
    "print(\"{0: >10}\".format(500)) # 빈 자리는 비워두기, 우측 정렬, 10 칸의 공간 확보\n",
    "print(\"{0: >+10}\".format(500)) # 빈 자리는 비워두기, 우측 정렬, + 기호, 10 칸의 공간 확보\n",
    "print(\"{0: >+10}\".format(-500))\n",
    "print(\"{0:_<10}\".format(500)) # 빈 자리는 _ 로, 좌측 정렬, 10 칸의 공간 확보"
   ]
  },
  {
   "cell_type": "code",
   "execution_count": 20,
   "id": "871b9a1f",
   "metadata": {},
   "outputs": [
    {
     "name": "stdout",
     "output_type": "stream",
     "text": [
      "100,000,000,000\n",
      "+100,000,000,000\n",
      "-100,000,000,000\n"
     ]
    }
   ],
   "source": [
    "print(\"{0:,}\".format(100000000000)) # 3자리 마다 콤마 찍어주기\n",
    "print(\"{0:+,}\".format(100000000000)) # + 기호, 3자리 마다 콤마 찍어주기\n",
    "print(\"{0:+,}\".format(-100000000000))"
   ]
  },
  {
   "cell_type": "code",
   "execution_count": null,
   "id": "658be9f1",
   "metadata": {},
   "outputs": [],
   "source": []
  }
 ],
 "metadata": {
  "kernelspec": {
   "display_name": "Python 3 (ipykernel)",
   "language": "python",
   "name": "python3"
  },
  "language_info": {
   "codemirror_mode": {
    "name": "ipython",
    "version": 3
   },
   "file_extension": ".py",
   "mimetype": "text/x-python",
   "name": "python",
   "nbconvert_exporter": "python",
   "pygments_lexer": "ipython3",
   "version": "3.9.13"
  }
 },
 "nbformat": 4,
 "nbformat_minor": 5
}
