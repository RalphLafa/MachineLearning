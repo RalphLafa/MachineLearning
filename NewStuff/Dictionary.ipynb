{
 "cells": [
  {
   "cell_type": "markdown",
   "id": "3f8f0d87",
   "metadata": {},
   "source": [
    "# Python Algorithm Interview Chpater 5 review"
   ]
  },
  {
   "cell_type": "code",
   "execution_count": 3,
   "id": "e22a9298",
   "metadata": {},
   "outputs": [
    {
     "name": "stdout",
     "output_type": "stream",
     "text": [
      "Doesn' exist\n",
      "Doesn't exist in dict a\n",
      "key1 value1\n",
      "key2  value2\n",
      "key3 value3\n"
     ]
    }
   ],
   "source": [
    "# Declaration of dictionary\n",
    "a = dict()\n",
    "# or you can just put {}\n",
    "b = {}\n",
    "a = {'key1' : 'value1', 'key2': ' value2'}\n",
    "a['key3'] = 'value3'\n",
    "\n",
    "try:\n",
    "    print(a['key4'])\n",
    "except KeyError:\n",
    "    print('Doesn\\'t exist')\n",
    "\n",
    "if 'key4' in a:\n",
    "    print(\"key4 exists in dict a\")\n",
    "else:\n",
    "    print(\"Doesn't exist in dict a\")\n",
    "\n",
    "for k,v in a.items():\n",
    "    print(k, v)"
   ]
  },
  {
   "cell_type": "markdown",
   "id": "65a36cbe",
   "metadata": {},
   "source": [
    "# Dictionary Modules"
   ]
  },
  {
   "cell_type": "markdown",
   "id": "7b71dc2e",
   "metadata": {},
   "source": [
    "- defaultdict\n",
    "- Counter\n",
    "- Ordered dict"
   ]
  },
  {
   "cell_type": "code",
   "execution_count": 7,
   "id": "a2ca3fd4",
   "metadata": {},
   "outputs": [
    {
     "data": {
      "text/plain": [
       "Counter({1: 1, 2: 2, 5: 4, 6: 2, 7: 1})"
      ]
     },
     "execution_count": 7,
     "metadata": {},
     "output_type": "execute_result"
    }
   ],
   "source": [
    "from collections import Counter\n",
    "a = [1,2,2,5,5,5,5,6,7,6]\n",
    "b = Counter(a)\n",
    "b"
   ]
  },
  {
   "cell_type": "code",
   "execution_count": 8,
   "id": "7f14a0ee",
   "metadata": {},
   "outputs": [
    {
     "data": {
      "text/plain": [
       "collections.Counter"
      ]
     },
     "execution_count": 8,
     "metadata": {},
     "output_type": "execute_result"
    }
   ],
   "source": [
    "type(b)"
   ]
  },
  {
   "cell_type": "code",
   "execution_count": 9,
   "id": "c25538dc",
   "metadata": {},
   "outputs": [
    {
     "data": {
      "text/plain": [
       "[(5, 4), (2, 2)]"
      ]
     },
     "execution_count": 9,
     "metadata": {},
     "output_type": "execute_result"
    }
   ],
   "source": [
    "b.most_common(2)"
   ]
  },
  {
   "cell_type": "code",
   "execution_count": null,
   "id": "6c3e7ec6",
   "metadata": {},
   "outputs": [],
   "source": []
  }
 ],
 "metadata": {
  "kernelspec": {
   "display_name": "Python 3 (ipykernel)",
   "language": "python",
   "name": "python3"
  },
  "language_info": {
   "codemirror_mode": {
    "name": "ipython",
    "version": 3
   },
   "file_extension": ".py",
   "mimetype": "text/x-python",
   "name": "python",
   "nbconvert_exporter": "python",
   "pygments_lexer": "ipython3",
   "version": "3.9.13"
  }
 },
 "nbformat": 4,
 "nbformat_minor": 5
}
